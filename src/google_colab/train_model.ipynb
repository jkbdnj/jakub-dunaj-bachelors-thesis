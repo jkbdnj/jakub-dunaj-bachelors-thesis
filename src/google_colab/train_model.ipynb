{
 "cells": [
  {
   "cell_type": "code",
   "execution_count": null,
   "metadata": {},
   "outputs": [
    {
     "ename": "",
     "evalue": "",
     "output_type": "error",
     "traceback": [
      "\u001b[1;31mRunning cells with 'thesis_env (Python 3.11.10)' requires the ipykernel package.\n",
      "\u001b[1;31mRun the following command to install 'ipykernel' into the Python environment. \n",
      "\u001b[1;31mCommand: 'conda install -n thesis_env ipykernel --update-deps --force-reinstall'"
     ]
    }
   ],
   "source": [
    "from google.colab import drive\n",
    "drive.mount('/content/drive')\n",
    "\n",
    "# cloning repository\n",
    "! git clone -b main https://github.com/jkbdnj/jakub-dunaj-bachelors-thesis.git\n",
    "\n",
    "\n",
    "% cd jakub-dunaj-bachelors-thesis/scripts/model_training\n",
    "\n",
    "! pip install -e .\n",
    "\n",
    "TRAIN_DATASET = '/content/drive/MyDrive/cnn_training/final_dataset/train'\n",
    "VALIDATION_DATASET = '/content/drive/MyDrive/cnn_training/final_dataset/validate'\n",
    "OUTPUT_PATH = '/content/drive/MyDrive/cnn_training'\n",
    "EPOCHS = 10\n",
    "BATCH_SIZE = 32\n",
    "\n",
    "! model-trainer {TRAIN_DATASET} {VALIDATION_DATASET} -o {OUTPUT_PATH} -e {EPOCHS} -b {BATCH_SIZE}\n"
   ]
  }
 ],
 "metadata": {
  "kernelspec": {
   "display_name": "thesis_env",
   "language": "python",
   "name": "python3"
  },
  "language_info": {
   "name": "python",
   "version": "3.11.10"
  }
 },
 "nbformat": 4,
 "nbformat_minor": 2
}
